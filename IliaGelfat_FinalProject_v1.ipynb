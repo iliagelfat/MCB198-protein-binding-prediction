{
 "cells": [
  {
   "cell_type": "markdown",
   "metadata": {
    "colab_type": "text",
    "id": "dii7YzaDsNvw"
   },
   "source": [
    "# MCB 198: Final Project\n",
    "Submitted by: Ilia Gelfat"
   ]
  },
  {
   "cell_type": "code",
   "execution_count": 1,
   "metadata": {
    "colab": {
     "base_uri": "https://localhost:8080/",
     "height": 34
    },
    "colab_type": "code",
    "id": "ftzFmcITsKAw",
    "outputId": "18c0cf37-c6cb-49e4-b9d5-a8194590441c"
   },
   "outputs": [
    {
     "name": "stderr",
     "output_type": "stream",
     "text": [
      "Using TensorFlow backend.\n"
     ]
    }
   ],
   "source": [
    "import numpy as np\n",
    "import keras as kr\n",
    "import matplotlib.pyplot as plt\n",
    "from google.colab import files\n",
    "import re"
   ]
  },
  {
   "cell_type": "code",
   "execution_count": 0,
   "metadata": {
    "colab": {},
    "colab_type": "code",
    "id": "vZEJms0eqknL"
   },
   "outputs": [],
   "source": [
    "from keras.models import Model, Sequential\n",
    "from keras.layers import Dense, Dropout, Activation, Flatten, Input\n",
    "from keras.layers import Conv1D, MaxPooling1D, GlobalAveragePooling1D\n",
    "from keras import layers\n",
    "from keras import models\n",
    "from keras.utils import np_utils"
   ]
  },
  {
   "cell_type": "markdown",
   "metadata": {
    "colab_type": "text",
    "id": "z4dYylEzsms9"
   },
   "source": [
    "## Import data"
   ]
  },
  {
   "cell_type": "markdown",
   "metadata": {
    "colab_type": "text",
    "id": "fjOX96WxyCKj"
   },
   "source": [
    "Nucleotide binding proteins"
   ]
  },
  {
   "cell_type": "code",
   "execution_count": 3,
   "metadata": {
    "colab": {
     "base_uri": "https://localhost:8080/",
     "height": 74,
     "resources": {
      "http://localhost:8080/nbextensions/google.colab/files.js": {
       "data": "Ly8gQ29weXJpZ2h0IDIwMTcgR29vZ2xlIExMQwovLwovLyBMaWNlbnNlZCB1bmRlciB0aGUgQXBhY2hlIExpY2Vuc2UsIFZlcnNpb24gMi4wICh0aGUgIkxpY2Vuc2UiKTsKLy8geW91IG1heSBub3QgdXNlIHRoaXMgZmlsZSBleGNlcHQgaW4gY29tcGxpYW5jZSB3aXRoIHRoZSBMaWNlbnNlLgovLyBZb3UgbWF5IG9idGFpbiBhIGNvcHkgb2YgdGhlIExpY2Vuc2UgYXQKLy8KLy8gICAgICBodHRwOi8vd3d3LmFwYWNoZS5vcmcvbGljZW5zZXMvTElDRU5TRS0yLjAKLy8KLy8gVW5sZXNzIHJlcXVpcmVkIGJ5IGFwcGxpY2FibGUgbGF3IG9yIGFncmVlZCB0byBpbiB3cml0aW5nLCBzb2Z0d2FyZQovLyBkaXN0cmlidXRlZCB1bmRlciB0aGUgTGljZW5zZSBpcyBkaXN0cmlidXRlZCBvbiBhbiAiQVMgSVMiIEJBU0lTLAovLyBXSVRIT1VUIFdBUlJBTlRJRVMgT1IgQ09ORElUSU9OUyBPRiBBTlkgS0lORCwgZWl0aGVyIGV4cHJlc3Mgb3IgaW1wbGllZC4KLy8gU2VlIHRoZSBMaWNlbnNlIGZvciB0aGUgc3BlY2lmaWMgbGFuZ3VhZ2UgZ292ZXJuaW5nIHBlcm1pc3Npb25zIGFuZAovLyBsaW1pdGF0aW9ucyB1bmRlciB0aGUgTGljZW5zZS4KCi8qKgogKiBAZmlsZW92ZXJ2aWV3IEhlbHBlcnMgZm9yIGdvb2dsZS5jb2xhYiBQeXRob24gbW9kdWxlLgogKi8KKGZ1bmN0aW9uKHNjb3BlKSB7CmZ1bmN0aW9uIHNwYW4odGV4dCwgc3R5bGVBdHRyaWJ1dGVzID0ge30pIHsKICBjb25zdCBlbGVtZW50ID0gZG9jdW1lbnQuY3JlYXRlRWxlbWVudCgnc3BhbicpOwogIGVsZW1lbnQudGV4dENvbnRlbnQgPSB0ZXh0OwogIGZvciAoY29uc3Qga2V5IG9mIE9iamVjdC5rZXlzKHN0eWxlQXR0cmlidXRlcykpIHsKICAgIGVsZW1lbnQuc3R5bGVba2V5XSA9IHN0eWxlQXR0cmlidXRlc1trZXldOwogIH0KICByZXR1cm4gZWxlbWVudDsKfQoKLy8gTWF4IG51bWJlciBvZiBieXRlcyB3aGljaCB3aWxsIGJlIHVwbG9hZGVkIGF0IGEgdGltZS4KY29uc3QgTUFYX1BBWUxPQURfU0laRSA9IDEwMCAqIDEwMjQ7Ci8vIE1heCBhbW91bnQgb2YgdGltZSB0byBibG9jayB3YWl0aW5nIGZvciB0aGUgdXNlci4KY29uc3QgRklMRV9DSEFOR0VfVElNRU9VVF9NUyA9IDMwICogMTAwMDsKCmZ1bmN0aW9uIF91cGxvYWRGaWxlcyhpbnB1dElkLCBvdXRwdXRJZCkgewogIGNvbnN0IHN0ZXBzID0gdXBsb2FkRmlsZXNTdGVwKGlucHV0SWQsIG91dHB1dElkKTsKICBjb25zdCBvdXRwdXRFbGVtZW50ID0gZG9jdW1lbnQuZ2V0RWxlbWVudEJ5SWQob3V0cHV0SWQpOwogIC8vIENhY2hlIHN0ZXBzIG9uIHRoZSBvdXRwdXRFbGVtZW50IHRvIG1ha2UgaXQgYXZhaWxhYmxlIGZvciB0aGUgbmV4dCBjYWxsCiAgLy8gdG8gdXBsb2FkRmlsZXNDb250aW51ZSBmcm9tIFB5dGhvbi4KICBvdXRwdXRFbGVtZW50LnN0ZXBzID0gc3RlcHM7CgogIHJldHVybiBfdXBsb2FkRmlsZXNDb250aW51ZShvdXRwdXRJZCk7Cn0KCi8vIFRoaXMgaXMgcm91Z2hseSBhbiBhc3luYyBnZW5lcmF0b3IgKG5vdCBzdXBwb3J0ZWQgaW4gdGhlIGJyb3dzZXIgeWV0KSwKLy8gd2hlcmUgdGhlcmUgYXJlIG11bHRpcGxlIGFzeW5jaHJvbm91cyBzdGVwcyBhbmQgdGhlIFB5dGhvbiBzaWRlIGlzIGdvaW5nCi8vIHRvIHBvbGwgZm9yIGNvbXBsZXRpb24gb2YgZWFjaCBzdGVwLgovLyBUaGlzIHVzZXMgYSBQcm9taXNlIHRvIGJsb2NrIHRoZSBweXRob24gc2lkZSBvbiBjb21wbGV0aW9uIG9mIGVhY2ggc3RlcCwKLy8gdGhlbiBwYXNzZXMgdGhlIHJlc3VsdCBvZiB0aGUgcHJldmlvdXMgc3RlcCBhcyB0aGUgaW5wdXQgdG8gdGhlIG5leHQgc3RlcC4KZnVuY3Rpb24gX3VwbG9hZEZpbGVzQ29udGludWUob3V0cHV0SWQpIHsKICBjb25zdCBvdXRwdXRFbGVtZW50ID0gZG9jdW1lbnQuZ2V0RWxlbWVudEJ5SWQob3V0cHV0SWQpOwogIGNvbnN0IHN0ZXBzID0gb3V0cHV0RWxlbWVudC5zdGVwczsKCiAgY29uc3QgbmV4dCA9IHN0ZXBzLm5leHQob3V0cHV0RWxlbWVudC5sYXN0UHJvbWlzZVZhbHVlKTsKICByZXR1cm4gUHJvbWlzZS5yZXNvbHZlKG5leHQudmFsdWUucHJvbWlzZSkudGhlbigodmFsdWUpID0+IHsKICAgIC8vIENhY2hlIHRoZSBsYXN0IHByb21pc2UgdmFsdWUgdG8gbWFrZSBpdCBhdmFpbGFibGUgdG8gdGhlIG5leHQKICAgIC8vIHN0ZXAgb2YgdGhlIGdlbmVyYXRvci4KICAgIG91dHB1dEVsZW1lbnQubGFzdFByb21pc2VWYWx1ZSA9IHZhbHVlOwogICAgcmV0dXJuIG5leHQudmFsdWUucmVzcG9uc2U7CiAgfSk7Cn0KCi8qKgogKiBHZW5lcmF0b3IgZnVuY3Rpb24gd2hpY2ggaXMgY2FsbGVkIGJldHdlZW4gZWFjaCBhc3luYyBzdGVwIG9mIHRoZSB1cGxvYWQKICogcHJvY2Vzcy4KICogQHBhcmFtIHtzdHJpbmd9IGlucHV0SWQgRWxlbWVudCBJRCBvZiB0aGUgaW5wdXQgZmlsZSBwaWNrZXIgZWxlbWVudC4KICogQHBhcmFtIHtzdHJpbmd9IG91dHB1dElkIEVsZW1lbnQgSUQgb2YgdGhlIG91dHB1dCBkaXNwbGF5LgogKiBAcmV0dXJuIHshSXRlcmFibGU8IU9iamVjdD59IEl0ZXJhYmxlIG9mIG5leHQgc3RlcHMuCiAqLwpmdW5jdGlvbiogdXBsb2FkRmlsZXNTdGVwKGlucHV0SWQsIG91dHB1dElkKSB7CiAgY29uc3QgaW5wdXRFbGVtZW50ID0gZG9jdW1lbnQuZ2V0RWxlbWVudEJ5SWQoaW5wdXRJZCk7CiAgaW5wdXRFbGVtZW50LmRpc2FibGVkID0gZmFsc2U7CgogIGNvbnN0IG91dHB1dEVsZW1lbnQgPSBkb2N1bWVudC5nZXRFbGVtZW50QnlJZChvdXRwdXRJZCk7CiAgb3V0cHV0RWxlbWVudC5pbm5lckhUTUwgPSAnJzsKCiAgY29uc3QgcGlja2VkUHJvbWlzZSA9IG5ldyBQcm9taXNlKChyZXNvbHZlKSA9PiB7CiAgICBpbnB1dEVsZW1lbnQuYWRkRXZlbnRMaXN0ZW5lcignY2hhbmdlJywgKGUpID0+IHsKICAgICAgcmVzb2x2ZShlLnRhcmdldC5maWxlcyk7CiAgICB9KTsKICB9KTsKCiAgY29uc3QgY2FuY2VsID0gZG9jdW1lbnQuY3JlYXRlRWxlbWVudCgnYnV0dG9uJyk7CiAgaW5wdXRFbGVtZW50LnBhcmVudEVsZW1lbnQuYXBwZW5kQ2hpbGQoY2FuY2VsKTsKICBjYW5jZWwudGV4dENvbnRlbnQgPSAnQ2FuY2VsIHVwbG9hZCc7CiAgY29uc3QgY2FuY2VsUHJvbWlzZSA9IG5ldyBQcm9taXNlKChyZXNvbHZlKSA9PiB7CiAgICBjYW5jZWwub25jbGljayA9ICgpID0+IHsKICAgICAgcmVzb2x2ZShudWxsKTsKICAgIH07CiAgfSk7CgogIC8vIENhbmNlbCB1cGxvYWQgaWYgdXNlciBoYXNuJ3QgcGlja2VkIGFueXRoaW5nIGluIHRpbWVvdXQuCiAgY29uc3QgdGltZW91dFByb21pc2UgPSBuZXcgUHJvbWlzZSgocmVzb2x2ZSkgPT4gewogICAgc2V0VGltZW91dCgoKSA9PiB7CiAgICAgIHJlc29sdmUobnVsbCk7CiAgICB9LCBGSUxFX0NIQU5HRV9USU1FT1VUX01TKTsKICB9KTsKCiAgLy8gV2FpdCBmb3IgdGhlIHVzZXIgdG8gcGljayB0aGUgZmlsZXMuCiAgY29uc3QgZmlsZXMgPSB5aWVsZCB7CiAgICBwcm9taXNlOiBQcm9taXNlLnJhY2UoW3BpY2tlZFByb21pc2UsIHRpbWVvdXRQcm9taXNlLCBjYW5jZWxQcm9taXNlXSksCiAgICByZXNwb25zZTogewogICAgICBhY3Rpb246ICdzdGFydGluZycsCiAgICB9CiAgfTsKCiAgaWYgKCFmaWxlcykgewogICAgcmV0dXJuIHsKICAgICAgcmVzcG9uc2U6IHsKICAgICAgICBhY3Rpb246ICdjb21wbGV0ZScsCiAgICAgIH0KICAgIH07CiAgfQoKICBjYW5jZWwucmVtb3ZlKCk7CgogIC8vIERpc2FibGUgdGhlIGlucHV0IGVsZW1lbnQgc2luY2UgZnVydGhlciBwaWNrcyBhcmUgbm90IGFsbG93ZWQuCiAgaW5wdXRFbGVtZW50LmRpc2FibGVkID0gdHJ1ZTsKCiAgZm9yIChjb25zdCBmaWxlIG9mIGZpbGVzKSB7CiAgICBjb25zdCBsaSA9IGRvY3VtZW50LmNyZWF0ZUVsZW1lbnQoJ2xpJyk7CiAgICBsaS5hcHBlbmQoc3BhbihmaWxlLm5hbWUsIHtmb250V2VpZ2h0OiAnYm9sZCd9KSk7CiAgICBsaS5hcHBlbmQoc3BhbigKICAgICAgICBgKCR7ZmlsZS50eXBlIHx8ICduL2EnfSkgLSAke2ZpbGUuc2l6ZX0gYnl0ZXMsIGAgKwogICAgICAgIGBsYXN0IG1vZGlmaWVkOiAkewogICAgICAgICAgICBmaWxlLmxhc3RNb2RpZmllZERhdGUgPyBmaWxlLmxhc3RNb2RpZmllZERhdGUudG9Mb2NhbGVEYXRlU3RyaW5nKCkgOgogICAgICAgICAgICAgICAgICAgICAgICAgICAgICAgICAgICAnbi9hJ30gLSBgKSk7CiAgICBjb25zdCBwZXJjZW50ID0gc3BhbignMCUgZG9uZScpOwogICAgbGkuYXBwZW5kQ2hpbGQocGVyY2VudCk7CgogICAgb3V0cHV0RWxlbWVudC5hcHBlbmRDaGlsZChsaSk7CgogICAgY29uc3QgZmlsZURhdGFQcm9taXNlID0gbmV3IFByb21pc2UoKHJlc29sdmUpID0+IHsKICAgICAgY29uc3QgcmVhZGVyID0gbmV3IEZpbGVSZWFkZXIoKTsKICAgICAgcmVhZGVyLm9ubG9hZCA9IChlKSA9PiB7CiAgICAgICAgcmVzb2x2ZShlLnRhcmdldC5yZXN1bHQpOwogICAgICB9OwogICAgICByZWFkZXIucmVhZEFzQXJyYXlCdWZmZXIoZmlsZSk7CiAgICB9KTsKICAgIC8vIFdhaXQgZm9yIHRoZSBkYXRhIHRvIGJlIHJlYWR5LgogICAgbGV0IGZpbGVEYXRhID0geWllbGQgewogICAgICBwcm9taXNlOiBmaWxlRGF0YVByb21pc2UsCiAgICAgIHJlc3BvbnNlOiB7CiAgICAgICAgYWN0aW9uOiAnY29udGludWUnLAogICAgICB9CiAgICB9OwoKICAgIC8vIFVzZSBhIGNodW5rZWQgc2VuZGluZyB0byBhdm9pZCBtZXNzYWdlIHNpemUgbGltaXRzLiBTZWUgYi82MjExNTY2MC4KICAgIGxldCBwb3NpdGlvbiA9IDA7CiAgICB3aGlsZSAocG9zaXRpb24gPCBmaWxlRGF0YS5ieXRlTGVuZ3RoKSB7CiAgICAgIGNvbnN0IGxlbmd0aCA9IE1hdGgubWluKGZpbGVEYXRhLmJ5dGVMZW5ndGggLSBwb3NpdGlvbiwgTUFYX1BBWUxPQURfU0laRSk7CiAgICAgIGNvbnN0IGNodW5rID0gbmV3IFVpbnQ4QXJyYXkoZmlsZURhdGEsIHBvc2l0aW9uLCBsZW5ndGgpOwogICAgICBwb3NpdGlvbiArPSBsZW5ndGg7CgogICAgICBjb25zdCBiYXNlNjQgPSBidG9hKFN0cmluZy5mcm9tQ2hhckNvZGUuYXBwbHkobnVsbCwgY2h1bmspKTsKICAgICAgeWllbGQgewogICAgICAgIHJlc3BvbnNlOiB7CiAgICAgICAgICBhY3Rpb246ICdhcHBlbmQnLAogICAgICAgICAgZmlsZTogZmlsZS5uYW1lLAogICAgICAgICAgZGF0YTogYmFzZTY0LAogICAgICAgIH0sCiAgICAgIH07CiAgICAgIHBlcmNlbnQudGV4dENvbnRlbnQgPQogICAgICAgICAgYCR7TWF0aC5yb3VuZCgocG9zaXRpb24gLyBmaWxlRGF0YS5ieXRlTGVuZ3RoKSAqIDEwMCl9JSBkb25lYDsKICAgIH0KICB9CgogIC8vIEFsbCBkb25lLgogIHlpZWxkIHsKICAgIHJlc3BvbnNlOiB7CiAgICAgIGFjdGlvbjogJ2NvbXBsZXRlJywKICAgIH0KICB9Owp9CgpzY29wZS5nb29nbGUgPSBzY29wZS5nb29nbGUgfHwge307CnNjb3BlLmdvb2dsZS5jb2xhYiA9IHNjb3BlLmdvb2dsZS5jb2xhYiB8fCB7fTsKc2NvcGUuZ29vZ2xlLmNvbGFiLl9maWxlcyA9IHsKICBfdXBsb2FkRmlsZXMsCiAgX3VwbG9hZEZpbGVzQ29udGludWUsCn07Cn0pKHNlbGYpOwo=",
       "headers": [
        [
         "content-type",
         "application/javascript"
        ]
       ],
       "ok": true,
       "status": 200,
       "status_text": ""
      }
     }
    },
    "colab_type": "code",
    "id": "KHdIYt5otBoI",
    "outputId": "a66bb5b6-d365-4c6a-ebf2-01291cba4bc9"
   },
   "outputs": [
    {
     "data": {
      "text/html": [
       "\n",
       "     <input type=\"file\" id=\"files-534249f3-a828-4fdf-b467-2c1c362beefe\" name=\"files[]\" multiple disabled />\n",
       "     <output id=\"result-534249f3-a828-4fdf-b467-2c1c362beefe\">\n",
       "      Upload widget is only available when the cell has been executed in the\n",
       "      current browser session. Please rerun this cell to enable.\n",
       "      </output>\n",
       "      <script src=\"/nbextensions/google.colab/files.js\"></script> "
      ],
      "text/plain": [
       "<IPython.core.display.HTML object>"
      ]
     },
     "metadata": {
      "tags": []
     },
     "output_type": "display_data"
    },
    {
     "name": "stdout",
     "output_type": "stream",
     "text": [
      "Saving NUC.txt to NUC.txt\n"
     ]
    }
   ],
   "source": [
    "nucFile = files.upload()     # select 'NUC.txt' from file selection prompt"
   ]
  },
  {
   "cell_type": "code",
   "execution_count": 0,
   "metadata": {
    "colab": {},
    "colab_type": "code",
    "id": "KxW7Rk94te_Q"
   },
   "outputs": [],
   "source": [
    "with open('NUC.txt', 'r') as sequences:\n",
    "    data = re.split(r'\\s', sequences.read())\n",
    "aaNUC = []\n",
    "for i in range(len(data)): \n",
    "  if len(data[i]) > 10 and len(data[i]) <= 1000:      # remove sequence UniProt ID and empty spaces, as well as long sequences (>1000aa)\n",
    "    if ('B' not in data[i]) and ('J' not in data[i]) and ('O' not in data[i]) and ('U' not in data[i]) and ('X' not in data[i]) and ('Z' not in data[i]):\n",
    "      aaNUC.append(data[i])\n",
    "aaNUC = list(set(aaNUC))     # remove duplicates"
   ]
  },
  {
   "cell_type": "markdown",
   "metadata": {
    "colab_type": "text",
    "id": "y9FmUpfPyG68"
   },
   "source": [
    "Peptide binding proteins"
   ]
  },
  {
   "cell_type": "code",
   "execution_count": 5,
   "metadata": {
    "colab": {
     "base_uri": "https://localhost:8080/",
     "height": 74,
     "resources": {
      "http://localhost:8080/nbextensions/google.colab/files.js": {
       "data": "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",
       "headers": [
        [
         "content-type",
         "application/javascript"
        ]
       ],
       "ok": true,
       "status": 200,
       "status_text": ""
      }
     }
    },
    "colab_type": "code",
    "id": "eCixG6ctyI-G",
    "outputId": "42dfd224-1333-4746-f28f-9eeeb6e0add4"
   },
   "outputs": [
    {
     "data": {
      "text/html": [
       "\n",
       "     <input type=\"file\" id=\"files-8233241e-d96e-422f-9a83-475d974885b6\" name=\"files[]\" multiple disabled />\n",
       "     <output id=\"result-8233241e-d96e-422f-9a83-475d974885b6\">\n",
       "      Upload widget is only available when the cell has been executed in the\n",
       "      current browser session. Please rerun this cell to enable.\n",
       "      </output>\n",
       "      <script src=\"/nbextensions/google.colab/files.js\"></script> "
      ],
      "text/plain": [
       "<IPython.core.display.HTML object>"
      ]
     },
     "metadata": {
      "tags": []
     },
     "output_type": "display_data"
    },
    {
     "name": "stdout",
     "output_type": "stream",
     "text": [
      "Saving III.txt to III.txt\n"
     ]
    }
   ],
   "source": [
    "pepFile = files.upload()     # select 'III.txt' from file selection prompt"
   ]
  },
  {
   "cell_type": "code",
   "execution_count": 0,
   "metadata": {
    "colab": {},
    "colab_type": "code",
    "id": "fgHYv7Y3yPAy"
   },
   "outputs": [],
   "source": [
    "with open('III.txt', 'r') as sequences:\n",
    "    data = re.split(r'\\s', sequences.read())\n",
    "aaPEP = []\n",
    "for i in range(len(data)): \n",
    "  if len(data[i]) > 10 and len(data[i]) <= 1000:      # remove sequence UniProt ID and empty spaces, as well as long sequences (>1000aa)\n",
    "    if ('B' not in data[i]) and ('J' not in data[i]) and ('O' not in data[i]) and ('U' not in data[i]) and ('X' not in data[i]) and ('Z' not in data[i]):\n",
    "      aaPEP.append(data[i])\n",
    "aaPEP = list(set(aaPEP))     # remove duplicates"
   ]
  },
  {
   "cell_type": "markdown",
   "metadata": {
    "colab_type": "text",
    "id": "eKTpUmt51kXy"
   },
   "source": [
    "Sugar binding proteins (glucose, galactose, fucose, beta-D-glucose, mannose)"
   ]
  },
  {
   "cell_type": "code",
   "execution_count": 7,
   "metadata": {
    "colab": {
     "base_uri": "https://localhost:8080/",
     "height": 305,
     "resources": {
      "http://localhost:8080/nbextensions/google.colab/files.js": {
       "data": "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",
       "headers": [
        [
         "content-type",
         "application/javascript"
        ]
       ],
       "ok": true,
       "status": 200,
       "status_text": ""
      }
     }
    },
    "colab_type": "code",
    "id": "t-SVTbhO2BhQ",
    "outputId": "388e68a6-ed6f-401f-a33e-7d9946e7c534"
   },
   "outputs": [
    {
     "data": {
      "text/html": [
       "\n",
       "     <input type=\"file\" id=\"files-63bb79d2-d0c4-4031-bd3e-4df0b5a10bb2\" name=\"files[]\" multiple disabled />\n",
       "     <output id=\"result-63bb79d2-d0c4-4031-bd3e-4df0b5a10bb2\">\n",
       "      Upload widget is only available when the cell has been executed in the\n",
       "      current browser session. Please rerun this cell to enable.\n",
       "      </output>\n",
       "      <script src=\"/nbextensions/google.colab/files.js\"></script> "
      ],
      "text/plain": [
       "<IPython.core.display.HTML object>"
      ]
     },
     "metadata": {
      "tags": []
     },
     "output_type": "display_data"
    },
    {
     "name": "stdout",
     "output_type": "stream",
     "text": [
      "Saving GLC.txt to GLC.txt\n"
     ]
    },
    {
     "data": {
      "text/html": [
       "\n",
       "     <input type=\"file\" id=\"files-0680bd32-0a54-41c9-8b03-65e774c665ec\" name=\"files[]\" multiple disabled />\n",
       "     <output id=\"result-0680bd32-0a54-41c9-8b03-65e774c665ec\">\n",
       "      Upload widget is only available when the cell has been executed in the\n",
       "      current browser session. Please rerun this cell to enable.\n",
       "      </output>\n",
       "      <script src=\"/nbextensions/google.colab/files.js\"></script> "
      ],
      "text/plain": [
       "<IPython.core.display.HTML object>"
      ]
     },
     "metadata": {
      "tags": []
     },
     "output_type": "display_data"
    },
    {
     "name": "stdout",
     "output_type": "stream",
     "text": [
      "Saving GAL.txt to GAL.txt\n"
     ]
    },
    {
     "data": {
      "text/html": [
       "\n",
       "     <input type=\"file\" id=\"files-23f73714-4ad8-459a-b942-fe5022348362\" name=\"files[]\" multiple disabled />\n",
       "     <output id=\"result-23f73714-4ad8-459a-b942-fe5022348362\">\n",
       "      Upload widget is only available when the cell has been executed in the\n",
       "      current browser session. Please rerun this cell to enable.\n",
       "      </output>\n",
       "      <script src=\"/nbextensions/google.colab/files.js\"></script> "
      ],
      "text/plain": [
       "<IPython.core.display.HTML object>"
      ]
     },
     "metadata": {
      "tags": []
     },
     "output_type": "display_data"
    },
    {
     "name": "stdout",
     "output_type": "stream",
     "text": [
      "Saving FUC.txt to FUC.txt\n"
     ]
    },
    {
     "data": {
      "text/html": [
       "\n",
       "     <input type=\"file\" id=\"files-cdb5ded1-c6ea-492c-8693-cd3a536ea17d\" name=\"files[]\" multiple disabled />\n",
       "     <output id=\"result-cdb5ded1-c6ea-492c-8693-cd3a536ea17d\">\n",
       "      Upload widget is only available when the cell has been executed in the\n",
       "      current browser session. Please rerun this cell to enable.\n",
       "      </output>\n",
       "      <script src=\"/nbextensions/google.colab/files.js\"></script> "
      ],
      "text/plain": [
       "<IPython.core.display.HTML object>"
      ]
     },
     "metadata": {
      "tags": []
     },
     "output_type": "display_data"
    },
    {
     "name": "stdout",
     "output_type": "stream",
     "text": [
      "Saving BGC.txt to BGC.txt\n"
     ]
    },
    {
     "data": {
      "text/html": [
       "\n",
       "     <input type=\"file\" id=\"files-e0a1f681-e57b-43a1-be79-a3665b8afedb\" name=\"files[]\" multiple disabled />\n",
       "     <output id=\"result-e0a1f681-e57b-43a1-be79-a3665b8afedb\">\n",
       "      Upload widget is only available when the cell has been executed in the\n",
       "      current browser session. Please rerun this cell to enable.\n",
       "      </output>\n",
       "      <script src=\"/nbextensions/google.colab/files.js\"></script> "
      ],
      "text/plain": [
       "<IPython.core.display.HTML object>"
      ]
     },
     "metadata": {
      "tags": []
     },
     "output_type": "display_data"
    },
    {
     "name": "stdout",
     "output_type": "stream",
     "text": [
      "Saving MAN.txt to MAN.txt\n"
     ]
    }
   ],
   "source": [
    "glcFile = files.upload()     # select 'GLC.txt' from file selection prompt\n",
    "galFile = files.upload()     # select 'GAL.txt' from file selection prompt\n",
    "fucFile = files.upload()     # select 'FUC.txt' from file selection prompt\n",
    "bgcFile = files.upload()     # select 'BGC.txt' from file selection prompt\n",
    "manFile = files.upload()     # select 'MAN.txt' from file selection prompt"
   ]
  },
  {
   "cell_type": "code",
   "execution_count": 0,
   "metadata": {
    "colab": {},
    "colab_type": "code",
    "id": "u6Y3FtOE2yXE"
   },
   "outputs": [],
   "source": [
    "aaSUGAR = []\n",
    "data = []\n",
    "sugarFileList = ['GLC.txt', 'GAL.txt', 'FUC.txt', 'BGC.txt', 'MAN.txt']\n",
    "\n",
    "for filename in sugarFileList: \n",
    "  with open(filename, 'r') as sequences:\n",
    "      data.extend(re.split(r'\\s', sequences.read()))\n",
    "for i in range(len(data)): \n",
    "  if len(data[i]) > 10 and len(data[i]) <= 1000:      # remove sequence UniProt ID and empty spaces, as well as long sequences (>1000aa)\n",
    "    if ('B' not in data[i]) and ('J' not in data[i]) and ('O' not in data[i]) and ('U' not in data[i]) and ('X' not in data[i]) and ('Z' not in data[i]):\n",
    "      aaSUGAR.append(data[i])\n",
    "\n",
    "aaSUGAR = list(set(aaSUGAR))     # remove duplicates"
   ]
  },
  {
   "cell_type": "code",
   "execution_count": 9,
   "metadata": {
    "colab": {
     "base_uri": "https://localhost:8080/",
     "height": 84
    },
    "colab_type": "code",
    "id": "esbImb3H-qE2",
    "outputId": "505d7e43-63a8-41d9-d03a-dc9ac80dddc3"
   },
   "outputs": [
    {
     "name": "stdout",
     "output_type": "stream",
     "text": [
      "Database size:\n",
      "Nucleodtide binding proteins: 2380\n",
      "Peptide binding proteins: 2248\n",
      "Sugar binding proteins: 904\n"
     ]
    }
   ],
   "source": [
    "print('Database size:')\n",
    "print('Nucleodtide binding proteins: {}'.format(len(aaNUC)))\n",
    "print('Peptide binding proteins: {}'.format(len(aaPEP)))\n",
    "print('Sugar binding proteins: {}'.format(len(aaSUGAR)))"
   ]
  },
  {
   "cell_type": "markdown",
   "metadata": {
    "colab_type": "text",
    "id": "OP72bPhd4as9"
   },
   "source": [
    "## Reformat data to match neural network input"
   ]
  },
  {
   "cell_type": "markdown",
   "metadata": {
    "colab_type": "text",
    "id": "clD09wQ24rTW"
   },
   "source": [
    "Pad with zeros to match lengths of AA sequences"
   ]
  },
  {
   "cell_type": "code",
   "execution_count": 10,
   "metadata": {
    "colab": {
     "base_uri": "https://localhost:8080/",
     "height": 134
    },
    "colab_type": "code",
    "id": "7VO95a-_42RO",
    "outputId": "97d3ca8c-34e2-481a-c9b6-367ba71d4102"
   },
   "outputs": [
    {
     "name": "stdout",
     "output_type": "stream",
     "text": [
      "X count in aaNUC: 0\n",
      "The minimal sequence length in aaNUC: 37\n",
      "X count in aaPEP: 0\n",
      "The minimal sequence length in aaPEP: 35\n",
      "X count in aaSUGAR: 0\n",
      "The minimal sequence length in aaSUGAR: 30\n",
      "The maximal sequence length: 1000\n"
     ]
    }
   ],
   "source": [
    "maxLen = 0\n",
    "minLen = 1000\n",
    "xcount = 0\n",
    "ch = 'Z'\n",
    "for seq in aaNUC: \n",
    "  if len(seq) > maxLen: \n",
    "    maxLen = len(seq)\n",
    "  if len(seq) < minLen: \n",
    "    minLen = len(seq)\n",
    "  if ch in seq:\n",
    "    xcount += 1\n",
    "print('X count in aaNUC: {}'.format(xcount))\n",
    "print('The minimal sequence length in aaNUC: {}'.format(minLen))\n",
    "minLen = 1000\n",
    "xcount = 0\n",
    "for seq in aaPEP: \n",
    "  if len(seq) > maxLen: \n",
    "    maxLen = len(seq)\n",
    "  if len(seq) < minLen: \n",
    "    minLen = len(seq)\n",
    "  if ch in seq:\n",
    "    xcount += 1\n",
    "print('X count in aaPEP: {}'.format(xcount))\n",
    "print('The minimal sequence length in aaPEP: {}'.format(minLen))\n",
    "minLen = 1000\n",
    "xcount = 0\n",
    "for seq in aaSUGAR: \n",
    "  if len(seq) > maxLen: \n",
    "    maxLen = len(seq)\n",
    "  if len(seq) < minLen: \n",
    "    minLen = len(seq)\n",
    "  if ch in seq:\n",
    "    xcount += 1\n",
    "print('X count in aaSUGAR: {}'.format(xcount))\n",
    "print('The minimal sequence length in aaSUGAR: {}'.format(minLen))\n",
    "print('The maximal sequence length: {}'.format(maxLen))"
   ]
  },
  {
   "cell_type": "code",
   "execution_count": 11,
   "metadata": {
    "colab": {
     "base_uri": "https://localhost:8080/",
     "height": 295
    },
    "colab_type": "code",
    "id": "1ppyt7m75fPM",
    "outputId": "65519be8-81be-4e6d-adbf-496a5d85836c"
   },
   "outputs": [
    {
     "data": {
      "image/png": "[encoded data removed]",
      "text/plain": [
       "<Figure size 432x288 with 1 Axes>"
      ]
     },
     "metadata": {
      "tags": []
     },
     "output_type": "display_data"
    }
   ],
   "source": [
    "full = []\n",
    "full.extend(aaNUC)\n",
    "full.extend(aaPEP)\n",
    "full.extend(aaSUGAR)\n",
    "lengths = []\n",
    "for seq in full: \n",
    "  lengths.append(len(seq))\n",
    "a = np.hstack(lengths)\n",
    "plt.hist(a, bins='auto')\n",
    "plt.title('Length Distribution of AA Sequences')\n",
    "plt.xlabel('Length [AA]')\n",
    "plt.ylabel('Frequency')\n",
    "plt.show()"
   ]
  },
  {
   "cell_type": "code",
   "execution_count": 12,
   "metadata": {
    "colab": {
     "base_uri": "https://localhost:8080/",
     "height": 295
    },
    "colab_type": "code",
    "id": "6Z5_2sr-Abz_",
    "outputId": "cb64a14b-df78-4658-8748-9e8a049e2499"
   },
   "outputs": [
    {
     "data": {
      "image/png": "[encoded data removed]",
      "text/plain": [
       "<Figure size 432x288 with 1 Axes>"
      ]
     },
     "metadata": {
      "tags": []
     },
     "output_type": "display_data"
    }
   ],
   "source": [
    "lengths = []\n",
    "for seq in aaNUC: \n",
    "  lengths.append(len(seq))\n",
    "a = np.hstack(lengths)\n",
    "plt.hist(a, bins='auto')\n",
    "plt.title('Length Distribution of AA Sequences')\n",
    "plt.xlabel('Length [AA]')\n",
    "plt.ylabel('Frequency')\n",
    "plt.show()"
   ]
  },
  {
   "cell_type": "code",
   "execution_count": 13,
   "metadata": {
    "colab": {
     "base_uri": "https://localhost:8080/",
     "height": 295
    },
    "colab_type": "code",
    "id": "doPE3pkXAfBx",
    "outputId": "baa4586f-c2b3-4907-cb80-37b9ae632593"
   },
   "outputs": [
    {
     "data": {
      "image/png": "[encoded data removed]",
      "text/plain": [
       "<Figure size 432x288 with 1 Axes>"
      ]
     },
     "metadata": {
      "tags": []
     },
     "output_type": "display_data"
    }
   ],
   "source": [
    "lengths = []\n",
    "for seq in aaPEP: \n",
    "  lengths.append(len(seq))\n",
    "a = np.hstack(lengths)\n",
    "plt.hist(a, bins='auto')\n",
    "plt.title('Length Distribution of AA Sequences')\n",
    "plt.xlabel('Length [AA]')\n",
    "plt.ylabel('Frequency')\n",
    "plt.show()"
   ]
  },
  {
   "cell_type": "code",
   "execution_count": 14,
   "metadata": {
    "colab": {
     "base_uri": "https://localhost:8080/",
     "height": 295
    },
    "colab_type": "code",
    "id": "3QgoWs4QAgyy",
    "outputId": "3010de7a-52af-400e-dd05-afe4711a3ed7"
   },
   "outputs": [
    {
     "data": {
      "image/png": "[encoded data removed]",
      "text/plain": [
       "<Figure size 432x288 with 1 Axes>"
      ]
     },
     "metadata": {
      "tags": []
     },
     "output_type": "display_data"
    }
   ],
   "source": [
    "lengths = []\n",
    "for seq in aaSUGAR: \n",
    "  lengths.append(len(seq))\n",
    "a = np.hstack(lengths)\n",
    "plt.hist(a, bins='auto')\n",
    "plt.title('Length Distribution of AA Sequences')\n",
    "plt.xlabel('Length [AA]')\n",
    "plt.ylabel('Frequency')\n",
    "plt.show()"
   ]
  },
  {
   "cell_type": "markdown",
   "metadata": {
    "colab_type": "text",
    "id": "YZgqZ-MYu952"
   },
   "source": [
    "The three \"channels\" - hydrophobicity, isoelectric point (pI) and molecular weight (MW). The values were shifted and normalized to span the range of 0.1 - 1. The minimum was set as 0.1 and not 0, to differentiate it from the zeros added to the ends of the sequences in order to make the inputs the same length. "
   ]
  },
  {
   "cell_type": "code",
   "execution_count": 0,
   "metadata": {
    "colab": {},
    "colab_type": "code",
    "id": "N4afFAi_LbvM"
   },
   "outputs": [],
   "source": [
    "AAstr = 'ACDEFGHIKLMNPQRSTVWY'\n",
    "AAhydrophobicity = np.asarray([1.8, 2.5, -3.5, -3.5, 2.8, -0.4, -3.2, 4.5, -3.9, 3.8, 1.9, -3.5, -1.6, -3.5, -4.5, -0.8, -0.7, 4.2, -0.9, -1.3]) + 4.5\n",
    "AAhydrophobicity += max(AAhydrophobicity) / 9\n",
    "AAhydrophobicity /= max(AAhydrophobicity)\n",
    "AApI = np.asarray([6.11, 5.02, 2.87, 3.08, 5.91, 6.06, 7.64, 6.04, 9.47, 6.04, 5.74, 5.41, 6.3, 5.65, 10.76, 5.68, 5.6, 6.02, 5.88, 5.63]) - 2.87\n",
    "AApI += max(AApI) / 9\n",
    "AApI /= max(AApI)\n",
    "AAMW = np.asarray([89.1, 121.2, 133.1, 147.1, 165.2, 75.1, 155.2, 131.2, 146.2, 131.2, 149.2, 132.1, 115.1, 146.2, 174.2, 105.1, 119.1, 117.1, 204.2, 181.2]) - 75.1\n",
    "AAMW += max(AAMW) / 9\n",
    "AAMW /= max(AAMW)\n",
    "AAproperties = np.asarray([AAhydrophobicity, AApI, AAMW]).transpose()\n",
    "AAdict = dict(zip(AAstr, AAproperties))"
   ]
  },
  {
   "cell_type": "markdown",
   "metadata": {
    "colab_type": "text",
    "id": "wie2UItRmA2Z"
   },
   "source": [
    "***Training output form: ***\n",
    "\n",
    "Nucleic acid binding = [1, 0, 0]\n",
    "\n",
    "Peptide binding = [0, 1, 0]\n",
    "\n",
    "Sugar binding = [0, 0, 1]"
   ]
  },
  {
   "cell_type": "code",
   "execution_count": 0,
   "metadata": {
    "colab": {},
    "colab_type": "code",
    "id": "70mhguB4d30N"
   },
   "outputs": [],
   "source": [
    "L = len(aaNUC)\n",
    "x_NUC = np.zeros((L, 3, 1000))\n",
    "for i in range(L): \n",
    "  seq = aaNUC[i]\n",
    "  for k in range(len(seq)): \n",
    "    x_NUC[i][:, k] = AAdict[seq[k]]\n",
    "y_NUC = np.concatenate((np.ones((1, L)), np.zeros((1, L)), np.zeros((1, L))), axis=0)\n",
    "y_NUC = y_NUC.transpose()"
   ]
  },
  {
   "cell_type": "code",
   "execution_count": 0,
   "metadata": {
    "colab": {},
    "colab_type": "code",
    "id": "BT_uJReVe9hX"
   },
   "outputs": [],
   "source": [
    "L = len(aaPEP)\n",
    "x_PEP= np.zeros((L, 3, 1000))\n",
    "for i in range(L): \n",
    "  seq = aaPEP[i]\n",
    "  for k in range(len(seq)): \n",
    "    x_PEP[i][:, k] = AAdict[seq[k]]\n",
    "y_PEP = np.concatenate((np.zeros((1, L)), np.ones((1, L)), np.zeros((1, L))), axis=0)\n",
    "y_PEP = y_PEP.transpose()"
   ]
  },
  {
   "cell_type": "code",
   "execution_count": 0,
   "metadata": {
    "colab": {},
    "colab_type": "code",
    "id": "NvQvGCrmfDz2"
   },
   "outputs": [],
   "source": [
    "L = len(aaSUGAR)\n",
    "x_SUGAR = np.zeros((L, 3, 1000))\n",
    "for i in range(L): \n",
    "  seq = aaSUGAR[i]\n",
    "  for k in range(len(seq)): \n",
    "    x_SUGAR[i][:, k] = AAdict[seq[k]]\n",
    "y_SUGAR = np.concatenate((np.zeros((1, L)), np.zeros((1, L)), np.ones((1, L))), axis=0)\n",
    "y_SUGAR = y_SUGAR.transpose()"
   ]
  },
  {
   "cell_type": "code",
   "execution_count": 0,
   "metadata": {
    "colab": {},
    "colab_type": "code",
    "id": "t6sr6l7FjJ3F"
   },
   "outputs": [],
   "source": [
    "N_TOTAL = len(aaNUC) + len(aaPEP) + len(aaSUGAR)\n",
    "X = np.concatenate((x_NUC, x_PEP, x_SUGAR), axis=0)\n",
    "X = X.astype('float32')\n",
    "X_new = np.zeros((N_TOTAL, 1000, 3))\n",
    "for i in range(N_TOTAL): \n",
    "  X_new[i] = X[i].transpose()\n",
    "Y = np.concatenate((y_NUC, y_PEP, y_SUGAR), axis=0)"
   ]
  },
  {
   "cell_type": "markdown",
   "metadata": {
    "colab_type": "text",
    "id": "Qmkt-TU1uzAi"
   },
   "source": [
    "Shuffle the data"
   ]
  },
  {
   "cell_type": "code",
   "execution_count": 0,
   "metadata": {
    "colab": {},
    "colab_type": "code",
    "id": "DGl60gUksvnp"
   },
   "outputs": [],
   "source": [
    "XY = np.c_[X.reshape(len(X), -1), Y.reshape(len(Y), -1)]\n",
    "np.random.shuffle(XY)\n",
    "X_sh = XY[:, :X.size//len(X)].reshape(X.shape)\n",
    "Y_sh = XY[:, X.size//len(X):].reshape(Y.shape)"
   ]
  },
  {
   "cell_type": "code",
   "execution_count": 34,
   "metadata": {
    "colab": {
     "base_uri": "https://localhost:8080/",
     "height": 118
    },
    "colab_type": "code",
    "id": "5kVRFI8UtfaP",
    "outputId": "aefce2e7-ccf7-4361-d5ae-c0eb58a39ca3"
   },
   "outputs": [
    {
     "data": {
      "text/plain": [
       "array([[0.74000001, 0.82999998, 0.73000002, ..., 0.        , 0.        ,\n",
       "        0.        ],\n",
       "       [0.42737642, 0.44676808, 0.46958175, ..., 0.        , 0.        ,\n",
       "        0.        ],\n",
       "       [0.61657631, 0.72811776, 0.19759876, ..., 0.        , 0.        ,\n",
       "        0.        ]])"
      ]
     },
     "execution_count": 34,
     "metadata": {
      "tags": []
     },
     "output_type": "execute_result"
    }
   ],
   "source": [
    "X_sh[0]"
   ]
  },
  {
   "cell_type": "markdown",
   "metadata": {
    "colab_type": "text",
    "id": "fW-TRYoblzT9"
   },
   "source": [
    "## Train neural network using Keras Sequential model"
   ]
  },
  {
   "cell_type": "code",
   "execution_count": 36,
   "metadata": {
    "colab": {
     "base_uri": "https://localhost:8080/",
     "height": 302
    },
    "colab_type": "code",
    "id": "CZN2QTTOl_VK",
    "outputId": "d184d65e-7f48-4edc-9800-404aaeeb416f"
   },
   "outputs": [
    {
     "name": "stdout",
     "output_type": "stream",
     "text": [
      "_________________________________________________________________\n",
      "Layer (type)                 Output Shape              Param #   \n",
      "=================================================================\n",
      "dense_5 (Dense)              (None, 3, 500)            500500    \n",
      "_________________________________________________________________\n",
      "flatten_2 (Flatten)          (None, 1500)              0         \n",
      "_________________________________________________________________\n",
      "dense_6 (Dense)              (None, 100)               150100    \n",
      "_________________________________________________________________\n",
      "dense_7 (Dense)              (None, 50)                5050      \n",
      "_________________________________________________________________\n",
      "dense_8 (Dense)              (None, 3)                 153       \n",
      "=================================================================\n",
      "Total params: 655,803\n",
      "Trainable params: 655,803\n",
      "Non-trainable params: 0\n",
      "_________________________________________________________________\n"
     ]
    }
   ],
   "source": [
    "NN = Sequential()\n",
    "NN.add(Dense(500, input_shape=(3,1000), activation='relu'))\n",
    "NN.add(Flatten())\n",
    "NN.add(Dense(100, activation='relu'))\n",
    "NN.add(Dense(50, activation='relu'))\n",
    "NN.add(Dense(3, activation='softmax'))\n",
    "NN.summary()"
   ]
  },
  {
   "cell_type": "code",
   "execution_count": 37,
   "metadata": {
    "colab": {
     "base_uri": "https://localhost:8080/",
     "height": 3394
    },
    "colab_type": "code",
    "id": "yYZa9YterPe-",
    "outputId": "464f5978-abd4-425f-d160-c173517b20cf"
   },
   "outputs": [
    {
     "name": "stdout",
     "output_type": "stream",
     "text": [
      "Train on 4425 samples, validate on 1107 samples\n",
      "Epoch 1/100\n",
      "4425/4425 [==============================] - 3s 727us/step - loss: 0.5896 - acc: 0.6789 - val_loss: 0.5635 - val_acc: 0.7010\n",
      "Epoch 2/100\n",
      "4425/4425 [==============================] - 3s 707us/step - loss: 0.5587 - acc: 0.7017 - val_loss: 0.5499 - val_acc: 0.7076\n",
      "Epoch 3/100\n",
      "4425/4425 [==============================] - 3s 746us/step - loss: 0.5159 - acc: 0.7367 - val_loss: 0.5514 - val_acc: 0.7055\n",
      "Epoch 4/100\n",
      "4425/4425 [==============================] - 3s 752us/step - loss: 0.4737 - acc: 0.7666 - val_loss: 0.5441 - val_acc: 0.7245\n",
      "Epoch 5/100\n",
      "4425/4425 [==============================] - 3s 741us/step - loss: 0.4279 - acc: 0.7931 - val_loss: 0.5645 - val_acc: 0.7154\n",
      "Epoch 6/100\n",
      "4425/4425 [==============================] - 3s 765us/step - loss: 0.3843 - acc: 0.8275 - val_loss: 0.6022 - val_acc: 0.7142\n",
      "Epoch 7/100\n",
      "4425/4425 [==============================] - 3s 732us/step - loss: 0.3455 - acc: 0.8495 - val_loss: 0.6161 - val_acc: 0.7118\n",
      "Epoch 8/100\n",
      "4425/4425 [==============================] - 3s 656us/step - loss: 0.3217 - acc: 0.8643 - val_loss: 0.6626 - val_acc: 0.6965\n",
      "Epoch 9/100\n",
      "4425/4425 [==============================] - 3s 708us/step - loss: 0.2816 - acc: 0.8814 - val_loss: 0.6959 - val_acc: 0.7049\n",
      "Epoch 10/100\n",
      "4425/4425 [==============================] - 3s 722us/step - loss: 0.2606 - acc: 0.8936 - val_loss: 0.7639 - val_acc: 0.6965\n",
      "Epoch 11/100\n",
      "4425/4425 [==============================] - 3s 703us/step - loss: 0.2379 - acc: 0.9020 - val_loss: 0.9021 - val_acc: 0.6953\n",
      "Epoch 12/100\n",
      "4425/4425 [==============================] - 3s 746us/step - loss: 0.2112 - acc: 0.9174 - val_loss: 0.9078 - val_acc: 0.7100\n",
      "Epoch 13/100\n",
      "4425/4425 [==============================] - 3s 747us/step - loss: 0.1888 - acc: 0.9286 - val_loss: 0.9545 - val_acc: 0.6814\n",
      "Epoch 14/100\n",
      "4425/4425 [==============================] - 3s 721us/step - loss: 0.1726 - acc: 0.9375 - val_loss: 0.9929 - val_acc: 0.6980\n",
      "Epoch 15/100\n",
      "4425/4425 [==============================] - 3s 723us/step - loss: 0.1689 - acc: 0.9350 - val_loss: 1.0011 - val_acc: 0.6947\n",
      "Epoch 16/100\n",
      "4425/4425 [==============================] - 3s 724us/step - loss: 0.1473 - acc: 0.9452 - val_loss: 0.9838 - val_acc: 0.6929\n",
      "Epoch 17/100\n",
      "4425/4425 [==============================] - 3s 721us/step - loss: 0.1422 - acc: 0.9509 - val_loss: 1.0810 - val_acc: 0.6959\n",
      "Epoch 18/100\n",
      "4425/4425 [==============================] - 3s 744us/step - loss: 0.1352 - acc: 0.9537 - val_loss: 1.0395 - val_acc: 0.6974\n",
      "Epoch 19/100\n",
      "4425/4425 [==============================] - 3s 742us/step - loss: 0.1301 - acc: 0.9535 - val_loss: 1.0892 - val_acc: 0.6893\n",
      "Epoch 20/100\n",
      "4425/4425 [==============================] - 3s 755us/step - loss: 0.1268 - acc: 0.9535 - val_loss: 1.0776 - val_acc: 0.7019\n",
      "Epoch 21/100\n",
      "4425/4425 [==============================] - 3s 759us/step - loss: 0.1121 - acc: 0.9604 - val_loss: 1.1844 - val_acc: 0.6811\n",
      "Epoch 22/100\n",
      "4425/4425 [==============================] - 4s 804us/step - loss: 0.1111 - acc: 0.9582 - val_loss: 1.0679 - val_acc: 0.6868\n",
      "Epoch 23/100\n",
      "4425/4425 [==============================] - 3s 784us/step - loss: 0.1066 - acc: 0.9624 - val_loss: 1.0811 - val_acc: 0.6865\n",
      "Epoch 24/100\n",
      "4425/4425 [==============================] - 3s 700us/step - loss: 0.1042 - acc: 0.9612 - val_loss: 1.1153 - val_acc: 0.6902\n",
      "Epoch 25/100\n",
      "4425/4425 [==============================] - 3s 727us/step - loss: 0.0995 - acc: 0.9645 - val_loss: 1.2183 - val_acc: 0.6896\n",
      "Epoch 26/100\n",
      "4425/4425 [==============================] - 3s 720us/step - loss: 0.1017 - acc: 0.9627 - val_loss: 1.1518 - val_acc: 0.6754\n",
      "Epoch 27/100\n",
      "4425/4425 [==============================] - 3s 725us/step - loss: 0.0916 - acc: 0.9638 - val_loss: 1.3003 - val_acc: 0.6899\n",
      "Epoch 28/100\n",
      "4425/4425 [==============================] - 3s 746us/step - loss: 0.1004 - acc: 0.9646 - val_loss: 1.2408 - val_acc: 0.6850\n",
      "Epoch 29/100\n",
      "4425/4425 [==============================] - 3s 739us/step - loss: 0.0937 - acc: 0.9638 - val_loss: 1.2092 - val_acc: 0.6886\n",
      "Epoch 30/100\n",
      "4425/4425 [==============================] - 3s 719us/step - loss: 0.0888 - acc: 0.9637 - val_loss: 1.3057 - val_acc: 0.6874\n",
      "Epoch 31/100\n",
      "4425/4425 [==============================] - 3s 680us/step - loss: 0.0861 - acc: 0.9649 - val_loss: 1.3144 - val_acc: 0.6772\n",
      "Epoch 32/100\n",
      "4425/4425 [==============================] - 3s 727us/step - loss: 0.0831 - acc: 0.9655 - val_loss: 1.2291 - val_acc: 0.6781\n",
      "Epoch 33/100\n",
      "4425/4425 [==============================] - 3s 741us/step - loss: 0.0848 - acc: 0.9652 - val_loss: 1.2379 - val_acc: 0.6838\n",
      "Epoch 34/100\n",
      "4425/4425 [==============================] - 3s 735us/step - loss: 0.0803 - acc: 0.9654 - val_loss: 1.3363 - val_acc: 0.6814\n",
      "Epoch 35/100\n",
      "4425/4425 [==============================] - 3s 737us/step - loss: 0.0780 - acc: 0.9658 - val_loss: 1.2791 - val_acc: 0.6823\n",
      "Epoch 36/100\n",
      "4425/4425 [==============================] - 3s 751us/step - loss: 0.0745 - acc: 0.9667 - val_loss: 1.3016 - val_acc: 0.6808\n",
      "Epoch 37/100\n",
      "4425/4425 [==============================] - 3s 733us/step - loss: 0.0721 - acc: 0.9675 - val_loss: 1.2396 - val_acc: 0.6874\n",
      "Epoch 38/100\n",
      "4425/4425 [==============================] - 3s 738us/step - loss: 0.0699 - acc: 0.9673 - val_loss: 1.5488 - val_acc: 0.6832\n",
      "Epoch 39/100\n",
      "4425/4425 [==============================] - 3s 744us/step - loss: 0.0676 - acc: 0.9672 - val_loss: 1.3739 - val_acc: 0.6805\n",
      "Epoch 40/100\n",
      "4425/4425 [==============================] - 3s 702us/step - loss: 0.0679 - acc: 0.9672 - val_loss: 1.4304 - val_acc: 0.6905\n",
      "Epoch 41/100\n",
      "4425/4425 [==============================] - 3s 709us/step - loss: 0.0642 - acc: 0.9683 - val_loss: 1.5064 - val_acc: 0.6902\n",
      "Epoch 42/100\n",
      "4425/4425 [==============================] - 3s 753us/step - loss: 0.0607 - acc: 0.9693 - val_loss: 1.5997 - val_acc: 0.6896\n",
      "Epoch 43/100\n",
      "4425/4425 [==============================] - 3s 720us/step - loss: 0.0630 - acc: 0.9687 - val_loss: 1.6558 - val_acc: 0.6841\n",
      "Epoch 44/100\n",
      "4425/4425 [==============================] - 3s 722us/step - loss: 0.0582 - acc: 0.9686 - val_loss: 1.6920 - val_acc: 0.6914\n",
      "Epoch 45/100\n",
      "4425/4425 [==============================] - 3s 692us/step - loss: 0.0575 - acc: 0.9714 - val_loss: 1.8215 - val_acc: 0.6835\n",
      "Epoch 46/100\n",
      "4425/4425 [==============================] - 3s 700us/step - loss: 0.0544 - acc: 0.9693 - val_loss: 1.6987 - val_acc: 0.6947\n",
      "Epoch 47/100\n",
      "4425/4425 [==============================] - 3s 717us/step - loss: 0.0613 - acc: 0.9680 - val_loss: 1.9170 - val_acc: 0.6935\n",
      "Epoch 48/100\n",
      "4425/4425 [==============================] - 3s 751us/step - loss: 0.0574 - acc: 0.9706 - val_loss: 1.6207 - val_acc: 0.6926\n",
      "Epoch 49/100\n",
      "4425/4425 [==============================] - 3s 747us/step - loss: 0.0606 - acc: 0.9663 - val_loss: 1.7430 - val_acc: 0.6926\n",
      "Epoch 50/100\n",
      "4425/4425 [==============================] - 3s 725us/step - loss: 0.0572 - acc: 0.9680 - val_loss: 1.9026 - val_acc: 0.6862\n",
      "Epoch 51/100\n",
      "4425/4425 [==============================] - 3s 668us/step - loss: 0.0669 - acc: 0.9669 - val_loss: 1.8394 - val_acc: 0.6911\n",
      "Epoch 52/100\n",
      "4425/4425 [==============================] - 3s 702us/step - loss: 0.0624 - acc: 0.9675 - val_loss: 1.8923 - val_acc: 0.6877\n",
      "Epoch 53/100\n",
      "4425/4425 [==============================] - 3s 730us/step - loss: 0.0698 - acc: 0.9656 - val_loss: 1.6869 - val_acc: 0.6844\n",
      "Epoch 54/100\n",
      "4425/4425 [==============================] - 3s 727us/step - loss: 0.0673 - acc: 0.9650 - val_loss: 1.8030 - val_acc: 0.6805\n",
      "Epoch 55/100\n",
      "4425/4425 [==============================] - 3s 720us/step - loss: 0.0605 - acc: 0.9697 - val_loss: 1.9969 - val_acc: 0.6793\n",
      "Epoch 56/100\n",
      "4425/4425 [==============================] - 3s 760us/step - loss: 0.0630 - acc: 0.9645 - val_loss: 1.8288 - val_acc: 0.6871\n",
      "Epoch 57/100\n",
      "4425/4425 [==============================] - 3s 759us/step - loss: 0.0730 - acc: 0.9647 - val_loss: 1.9953 - val_acc: 0.6835\n",
      "Epoch 58/100\n",
      "4425/4425 [==============================] - 4s 798us/step - loss: 0.0738 - acc: 0.9616 - val_loss: 2.1567 - val_acc: 0.6766\n",
      "Epoch 59/100\n",
      "4425/4425 [==============================] - 4s 805us/step - loss: 0.0560 - acc: 0.9672 - val_loss: 2.1797 - val_acc: 0.6847\n",
      "Epoch 60/100\n",
      "4425/4425 [==============================] - 3s 748us/step - loss: 0.0465 - acc: 0.9710 - val_loss: 2.2800 - val_acc: 0.6856\n",
      "Epoch 61/100\n",
      "4425/4425 [==============================] - 3s 747us/step - loss: 0.0479 - acc: 0.9702 - val_loss: 2.2738 - val_acc: 0.6841\n",
      "Epoch 62/100\n",
      "4425/4425 [==============================] - 3s 742us/step - loss: 0.0434 - acc: 0.9721 - val_loss: 2.2487 - val_acc: 0.6838\n",
      "Epoch 63/100\n",
      "4425/4425 [==============================] - 3s 731us/step - loss: 0.0443 - acc: 0.9715 - val_loss: 2.0821 - val_acc: 0.6832\n",
      "Epoch 64/100\n",
      "4425/4425 [==============================] - 3s 743us/step - loss: 0.0453 - acc: 0.9705 - val_loss: 2.0378 - val_acc: 0.6820\n",
      "Epoch 65/100\n",
      "4425/4425 [==============================] - 3s 723us/step - loss: 0.0483 - acc: 0.9696 - val_loss: 2.2367 - val_acc: 0.6823\n",
      "Epoch 66/100\n",
      "4425/4425 [==============================] - 3s 760us/step - loss: 0.0655 - acc: 0.9675 - val_loss: 2.2377 - val_acc: 0.6733\n",
      "Epoch 67/100\n",
      "4425/4425 [==============================] - 3s 755us/step - loss: 0.0659 - acc: 0.9662 - val_loss: 2.2447 - val_acc: 0.6865\n",
      "Epoch 68/100\n",
      "4425/4425 [==============================] - 3s 761us/step - loss: 0.0632 - acc: 0.9673 - val_loss: 2.1971 - val_acc: 0.6790\n",
      "Epoch 69/100\n",
      "4425/4425 [==============================] - 3s 740us/step - loss: 0.0502 - acc: 0.9730 - val_loss: 2.1463 - val_acc: 0.6790\n",
      "Epoch 70/100\n",
      "4425/4425 [==============================] - 3s 751us/step - loss: 0.0477 - acc: 0.9718 - val_loss: 2.4145 - val_acc: 0.6802\n",
      "Epoch 71/100\n",
      "4425/4425 [==============================] - 3s 755us/step - loss: 0.0437 - acc: 0.9715 - val_loss: 2.3550 - val_acc: 0.6853\n",
      "Epoch 72/100\n",
      "4425/4425 [==============================] - 3s 765us/step - loss: 0.0423 - acc: 0.9731 - val_loss: 2.5954 - val_acc: 0.6835\n",
      "Epoch 73/100\n",
      "4425/4425 [==============================] - 3s 749us/step - loss: 0.0477 - acc: 0.9708 - val_loss: 2.6089 - val_acc: 0.6835\n",
      "Epoch 74/100\n",
      "4425/4425 [==============================] - 3s 729us/step - loss: 0.0567 - acc: 0.9674 - val_loss: 2.3108 - val_acc: 0.6883\n",
      "Epoch 75/100\n",
      "4425/4425 [==============================] - 3s 751us/step - loss: 0.0491 - acc: 0.9694 - val_loss: 2.2377 - val_acc: 0.6832\n",
      "Epoch 76/100\n",
      "4425/4425 [==============================] - 3s 752us/step - loss: 0.0568 - acc: 0.9653 - val_loss: 2.4492 - val_acc: 0.6899\n",
      "Epoch 77/100\n",
      "4425/4425 [==============================] - 3s 716us/step - loss: 0.0661 - acc: 0.9666 - val_loss: 2.1849 - val_acc: 0.6911\n",
      "Epoch 78/100\n",
      "4425/4425 [==============================] - 3s 731us/step - loss: 0.0505 - acc: 0.9722 - val_loss: 2.3585 - val_acc: 0.6835\n",
      "Epoch 79/100\n",
      "4425/4425 [==============================] - 3s 756us/step - loss: 0.0537 - acc: 0.9705 - val_loss: 2.5596 - val_acc: 0.6889\n",
      "Epoch 80/100\n",
      "4425/4425 [==============================] - 3s 708us/step - loss: 0.0591 - acc: 0.9688 - val_loss: 2.0693 - val_acc: 0.6838\n",
      "Epoch 81/100\n",
      "4425/4425 [==============================] - 3s 734us/step - loss: 0.0544 - acc: 0.9718 - val_loss: 2.4810 - val_acc: 0.6832\n",
      "Epoch 82/100\n",
      "4425/4425 [==============================] - 3s 724us/step - loss: 0.0430 - acc: 0.9720 - val_loss: 2.4678 - val_acc: 0.6874\n",
      "Epoch 83/100\n",
      "4425/4425 [==============================] - 3s 716us/step - loss: 0.0413 - acc: 0.9727 - val_loss: 2.5371 - val_acc: 0.6893\n",
      "Epoch 84/100\n",
      "4425/4425 [==============================] - 3s 715us/step - loss: 0.0400 - acc: 0.9736 - val_loss: 2.5438 - val_acc: 0.6820\n",
      "Epoch 85/100\n",
      "4425/4425 [==============================] - 3s 694us/step - loss: 0.0405 - acc: 0.9736 - val_loss: 2.4622 - val_acc: 0.6808\n",
      "Epoch 86/100\n",
      "4425/4425 [==============================] - 3s 709us/step - loss: 0.0401 - acc: 0.9742 - val_loss: 2.6243 - val_acc: 0.6862\n",
      "Epoch 87/100\n",
      "4425/4425 [==============================] - 3s 735us/step - loss: 0.0406 - acc: 0.9728 - val_loss: 2.7209 - val_acc: 0.6877\n",
      "Epoch 88/100\n",
      "4425/4425 [==============================] - 3s 748us/step - loss: 0.0405 - acc: 0.9727 - val_loss: 2.6735 - val_acc: 0.6853\n",
      "Epoch 89/100\n",
      "4425/4425 [==============================] - 3s 724us/step - loss: 0.0400 - acc: 0.9726 - val_loss: 2.7271 - val_acc: 0.6850\n",
      "Epoch 90/100\n",
      "4425/4425 [==============================] - 3s 735us/step - loss: 0.0399 - acc: 0.9721 - val_loss: 2.7193 - val_acc: 0.6835\n",
      "Epoch 91/100\n",
      "4425/4425 [==============================] - 3s 744us/step - loss: 0.0421 - acc: 0.9721 - val_loss: 2.5240 - val_acc: 0.6829\n",
      "Epoch 92/100\n",
      "4425/4425 [==============================] - 3s 719us/step - loss: 0.0436 - acc: 0.9734 - val_loss: 2.5667 - val_acc: 0.6847\n",
      "Epoch 93/100\n",
      "4425/4425 [==============================] - 3s 735us/step - loss: 0.0417 - acc: 0.9724 - val_loss: 2.5691 - val_acc: 0.6880\n",
      "Epoch 94/100\n",
      "4425/4425 [==============================] - 3s 732us/step - loss: 0.0604 - acc: 0.9669 - val_loss: 2.6128 - val_acc: 0.6796\n",
      "Epoch 95/100\n",
      "4425/4425 [==============================] - 3s 734us/step - loss: 0.1197 - acc: 0.9485 - val_loss: 2.0308 - val_acc: 0.6814\n",
      "Epoch 96/100\n",
      "4425/4425 [==============================] - 3s 736us/step - loss: 0.0608 - acc: 0.9671 - val_loss: 2.2138 - val_acc: 0.6850\n",
      "Epoch 97/100\n",
      "4425/4425 [==============================] - 3s 713us/step - loss: 0.0506 - acc: 0.9705 - val_loss: 2.4122 - val_acc: 0.6787\n",
      "Epoch 98/100\n",
      "4425/4425 [==============================] - 3s 722us/step - loss: 0.0455 - acc: 0.9707 - val_loss: 2.7381 - val_acc: 0.6772\n",
      "Epoch 99/100\n",
      "4425/4425 [==============================] - 3s 736us/step - loss: 0.0486 - acc: 0.9718 - val_loss: 2.7597 - val_acc: 0.6697\n",
      "Epoch 100/100\n",
      "4425/4425 [==============================] - 3s 719us/step - loss: 0.0445 - acc: 0.9724 - val_loss: 2.7269 - val_acc: 0.6838\n"
     ]
    }
   ],
   "source": [
    "NN.compile(optimizer='adam', loss='binary_crossentropy', metrics=['acc'])\n",
    "history = NN.fit(X_sh, Y_sh, \n",
    "                 epochs=100,\n",
    "                 validation_split=0.2)"
   ]
  },
  {
   "cell_type": "markdown",
   "metadata": {
    "colab_type": "text",
    "id": "m5tucGBdvofH"
   },
   "source": [
    "## Train convolutional neural network"
   ]
  },
  {
   "cell_type": "code",
   "execution_count": 51,
   "metadata": {
    "colab": {
     "base_uri": "https://localhost:8080/",
     "height": 134
    },
    "colab_type": "code",
    "id": "oZ92q4dpDifn",
    "outputId": "a5279b1c-4721-47d2-8143-7ec2bf8788fa"
   },
   "outputs": [
    {
     "data": {
      "text/plain": [
       "array([[0.74000001, 0.42737642, 0.61657631],\n",
       "       [0.82999998, 0.44676808, 0.72811776],\n",
       "       [0.73000002, 0.46958175, 0.19759876],\n",
       "       ...,\n",
       "       [0.        , 0.        , 0.        ],\n",
       "       [0.        , 0.        , 0.        ],\n",
       "       [0.        , 0.        , 0.        ]])"
      ]
     },
     "execution_count": 51,
     "metadata": {
      "tags": []
     },
     "output_type": "execute_result"
    }
   ],
   "source": [
    "X_cnn = np.transpose(X_sh, (0, 2, 1))\n",
    "X_cnn[0]"
   ]
  },
  {
   "cell_type": "code",
   "execution_count": 55,
   "metadata": {
    "colab": {
     "base_uri": "https://localhost:8080/",
     "height": 370
    },
    "colab_type": "code",
    "id": "T-RzWds9vsMv",
    "outputId": "4777af63-67bd-4031-ae9b-cb62ca7934b8"
   },
   "outputs": [
    {
     "name": "stdout",
     "output_type": "stream",
     "text": [
      "_________________________________________________________________\n",
      "Layer (type)                 Output Shape              Param #   \n",
      "=================================================================\n",
      "conv1d_5 (Conv1D)            (None, 1000, 100)         15100     \n",
      "_________________________________________________________________\n",
      "conv1d_6 (Conv1D)            (None, 1000, 100)         100100    \n",
      "_________________________________________________________________\n",
      "max_pooling1d_2 (MaxPooling1 (None, 333, 100)          0         \n",
      "_________________________________________________________________\n",
      "conv1d_7 (Conv1D)            (None, 333, 100)          100100    \n",
      "_________________________________________________________________\n",
      "global_average_pooling1d_2 ( (None, 100)               0         \n",
      "_________________________________________________________________\n",
      "dropout_4 (Dropout)          (None, 100)               0         \n",
      "_________________________________________________________________\n",
      "dense_12 (Dense)             (None, 3)                 303       \n",
      "=================================================================\n",
      "Total params: 215,603\n",
      "Trainable params: 215,603\n",
      "Non-trainable params: 0\n",
      "_________________________________________________________________\n"
     ]
    }
   ],
   "source": [
    "CNN = Sequential()\n",
    "CNN.add(Conv1D(100, 50, padding='same', activation='relu', input_shape=(1000,3)))\n",
    "CNN.add(Conv1D(100, 10, padding='same', activation='relu'))\n",
    "CNN.add(MaxPooling1D(3))\n",
    "CNN.add(Conv1D(100, 10, padding='same', activation='relu'))\n",
    "CNN.add(GlobalAveragePooling1D())\n",
    "CNN.add(Dropout(0.5))\n",
    "CNN.add(Dense(3, activation='softmax'))\n",
    "CNN.summary()"
   ]
  },
  {
   "cell_type": "code",
   "execution_count": 56,
   "metadata": {
    "colab": {
     "base_uri": "https://localhost:8080/",
     "height": 3394
    },
    "colab_type": "code",
    "id": "PjGp1PfryAd2",
    "outputId": "5d214f83-c4ec-4bfc-bb50-533fda18b1f3"
   },
   "outputs": [
    {
     "name": "stdout",
     "output_type": "stream",
     "text": [
      "Train on 4425 samples, validate on 1107 samples\n",
      "Epoch 1/100\n",
      "4425/4425 [==============================] - 120s 27ms/step - loss: 0.6041 - acc: 0.6647 - val_loss: 0.5917 - val_acc: 0.6667\n",
      "Epoch 2/100\n",
      "4425/4425 [==============================] - 119s 27ms/step - loss: 0.5954 - acc: 0.6736 - val_loss: 0.5831 - val_acc: 0.6917\n",
      "Epoch 3/100\n",
      "4425/4425 [==============================] - 118s 27ms/step - loss: 0.5931 - acc: 0.6765 - val_loss: 0.5772 - val_acc: 0.6986\n",
      "Epoch 4/100\n",
      "4425/4425 [==============================] - 118s 27ms/step - loss: 0.5888 - acc: 0.6826 - val_loss: 0.5872 - val_acc: 0.6676\n",
      "Epoch 5/100\n",
      "4425/4425 [==============================] - 116s 26ms/step - loss: 0.5785 - acc: 0.6890 - val_loss: 0.5503 - val_acc: 0.7085\n",
      "Epoch 6/100\n",
      "4425/4425 [==============================] - 122s 28ms/step - loss: 0.5604 - acc: 0.6956 - val_loss: 0.5677 - val_acc: 0.6929\n",
      "Epoch 7/100\n",
      "4425/4425 [==============================] - 121s 27ms/step - loss: 0.5507 - acc: 0.6988 - val_loss: 0.5304 - val_acc: 0.7109\n",
      "Epoch 8/100\n",
      "4425/4425 [==============================] - 123s 28ms/step - loss: 0.5471 - acc: 0.7035 - val_loss: 0.5277 - val_acc: 0.7151\n",
      "Epoch 9/100\n",
      "4425/4425 [==============================] - 124s 28ms/step - loss: 0.5452 - acc: 0.6994 - val_loss: 0.5298 - val_acc: 0.7127\n",
      "Epoch 10/100\n",
      "4425/4425 [==============================] - 123s 28ms/step - loss: 0.5400 - acc: 0.7048 - val_loss: 0.5204 - val_acc: 0.7148\n",
      "Epoch 11/100\n",
      "4425/4425 [==============================] - 123s 28ms/step - loss: 0.5471 - acc: 0.7031 - val_loss: 0.5250 - val_acc: 0.7127\n",
      "Epoch 12/100\n",
      "4425/4425 [==============================] - 119s 27ms/step - loss: 0.5387 - acc: 0.7055 - val_loss: 0.5506 - val_acc: 0.6974\n",
      "Epoch 13/100\n",
      "4425/4425 [==============================] - 119s 27ms/step - loss: 0.5378 - acc: 0.7051 - val_loss: 0.5229 - val_acc: 0.7139\n",
      "Epoch 14/100\n",
      "4425/4425 [==============================] - 121s 27ms/step - loss: 0.5377 - acc: 0.7079 - val_loss: 0.5260 - val_acc: 0.7167\n",
      "Epoch 15/100\n",
      "4425/4425 [==============================] - 119s 27ms/step - loss: 0.5383 - acc: 0.7036 - val_loss: 0.5187 - val_acc: 0.7176\n",
      "Epoch 16/100\n",
      "4425/4425 [==============================] - 120s 27ms/step - loss: 0.5304 - acc: 0.7086 - val_loss: 0.5218 - val_acc: 0.7142\n",
      "Epoch 17/100\n",
      "4425/4425 [==============================] - 119s 27ms/step - loss: 0.5309 - acc: 0.7127 - val_loss: 0.5135 - val_acc: 0.7194\n",
      "Epoch 18/100\n",
      "4425/4425 [==============================] - 118s 27ms/step - loss: 0.5343 - acc: 0.7058 - val_loss: 0.5367 - val_acc: 0.7016\n",
      "Epoch 19/100\n",
      "4425/4425 [==============================] - 120s 27ms/step - loss: 0.5387 - acc: 0.7048 - val_loss: 0.5187 - val_acc: 0.7160\n",
      "Epoch 20/100\n",
      "4425/4425 [==============================] - 119s 27ms/step - loss: 0.5315 - acc: 0.7111 - val_loss: 0.5274 - val_acc: 0.7164\n",
      "Epoch 21/100\n",
      "4425/4425 [==============================] - 121s 27ms/step - loss: 0.5335 - acc: 0.7092 - val_loss: 0.5231 - val_acc: 0.7194\n",
      "Epoch 22/100\n",
      "4425/4425 [==============================] - 120s 27ms/step - loss: 0.5299 - acc: 0.7180 - val_loss: 0.5131 - val_acc: 0.7257\n",
      "Epoch 23/100\n",
      "4425/4425 [==============================] - 120s 27ms/step - loss: 0.5234 - acc: 0.7180 - val_loss: 0.5347 - val_acc: 0.7013\n",
      "Epoch 24/100\n",
      "4425/4425 [==============================] - 122s 28ms/step - loss: 0.5265 - acc: 0.7142 - val_loss: 0.5120 - val_acc: 0.7254\n",
      "Epoch 25/100\n",
      "4425/4425 [==============================] - 120s 27ms/step - loss: 0.5253 - acc: 0.7146 - val_loss: 0.5184 - val_acc: 0.7167\n",
      "Epoch 26/100\n",
      "4425/4425 [==============================] - 119s 27ms/step - loss: 0.5270 - acc: 0.7140 - val_loss: 0.5303 - val_acc: 0.7058\n",
      "Epoch 27/100\n",
      "4425/4425 [==============================] - 118s 27ms/step - loss: 0.5263 - acc: 0.7153 - val_loss: 0.5174 - val_acc: 0.7194\n",
      "Epoch 28/100\n",
      "4425/4425 [==============================] - 118s 27ms/step - loss: 0.5206 - acc: 0.7192 - val_loss: 0.5139 - val_acc: 0.7245\n",
      "Epoch 29/100\n",
      "4425/4425 [==============================] - 120s 27ms/step - loss: 0.5239 - acc: 0.7193 - val_loss: 0.5134 - val_acc: 0.7230\n",
      "Epoch 30/100\n",
      "4425/4425 [==============================] - 119s 27ms/step - loss: 0.5238 - acc: 0.7173 - val_loss: 0.5166 - val_acc: 0.7194\n",
      "Epoch 31/100\n",
      "4425/4425 [==============================] - 118s 27ms/step - loss: 0.5222 - acc: 0.7177 - val_loss: 0.5197 - val_acc: 0.7173\n",
      "Epoch 32/100\n",
      "4425/4425 [==============================] - 118s 27ms/step - loss: 0.5243 - acc: 0.7169 - val_loss: 0.5320 - val_acc: 0.7094\n",
      "Epoch 33/100\n",
      "4425/4425 [==============================] - 121s 27ms/step - loss: 0.5231 - acc: 0.7153 - val_loss: 0.5122 - val_acc: 0.7212\n",
      "Epoch 34/100\n",
      "4425/4425 [==============================] - 121s 27ms/step - loss: 0.5208 - acc: 0.7177 - val_loss: 0.5508 - val_acc: 0.7088\n",
      "Epoch 35/100\n",
      "4425/4425 [==============================] - 121s 27ms/step - loss: 0.5221 - acc: 0.7180 - val_loss: 0.5208 - val_acc: 0.7112\n",
      "Epoch 36/100\n",
      "4425/4425 [==============================] - 119s 27ms/step - loss: 0.5221 - acc: 0.7182 - val_loss: 0.5081 - val_acc: 0.7320\n",
      "Epoch 37/100\n",
      "4425/4425 [==============================] - 121s 27ms/step - loss: 0.5154 - acc: 0.7215 - val_loss: 0.5097 - val_acc: 0.7284\n",
      "Epoch 38/100\n",
      "4425/4425 [==============================] - 120s 27ms/step - loss: 0.5192 - acc: 0.7239 - val_loss: 0.5141 - val_acc: 0.7239\n",
      "Epoch 39/100\n",
      "4425/4425 [==============================] - 123s 28ms/step - loss: 0.5214 - acc: 0.7215 - val_loss: 0.5147 - val_acc: 0.7151\n",
      "Epoch 40/100\n",
      "4425/4425 [==============================] - 120s 27ms/step - loss: 0.5144 - acc: 0.7256 - val_loss: 0.5341 - val_acc: 0.7112\n",
      "Epoch 41/100\n",
      "4425/4425 [==============================] - 120s 27ms/step - loss: 0.5105 - acc: 0.7293 - val_loss: 0.5154 - val_acc: 0.7136\n",
      "Epoch 42/100\n",
      "4425/4425 [==============================] - 122s 28ms/step - loss: 0.5148 - acc: 0.7226 - val_loss: 0.5071 - val_acc: 0.7236\n",
      "Epoch 43/100\n",
      "4425/4425 [==============================] - 122s 27ms/step - loss: 0.5124 - acc: 0.7286 - val_loss: 0.5070 - val_acc: 0.7236\n",
      "Epoch 44/100\n",
      "4425/4425 [==============================] - 120s 27ms/step - loss: 0.5062 - acc: 0.7281 - val_loss: 0.5196 - val_acc: 0.7148\n",
      "Epoch 45/100\n",
      "4425/4425 [==============================] - 122s 28ms/step - loss: 0.5121 - acc: 0.7279 - val_loss: 0.5086 - val_acc: 0.7266\n",
      "Epoch 46/100\n",
      "4425/4425 [==============================] - 123s 28ms/step - loss: 0.5060 - acc: 0.7327 - val_loss: 0.5025 - val_acc: 0.7344\n",
      "Epoch 47/100\n",
      "4425/4425 [==============================] - 122s 28ms/step - loss: 0.5086 - acc: 0.7351 - val_loss: 0.5101 - val_acc: 0.7248\n",
      "Epoch 48/100\n",
      "4425/4425 [==============================] - 121s 27ms/step - loss: 0.5045 - acc: 0.7359 - val_loss: 0.5021 - val_acc: 0.7266\n",
      "Epoch 49/100\n",
      "4425/4425 [==============================] - 120s 27ms/step - loss: 0.4988 - acc: 0.7401 - val_loss: 0.5014 - val_acc: 0.7239\n",
      "Epoch 50/100\n",
      "4425/4425 [==============================] - 122s 28ms/step - loss: 0.5012 - acc: 0.7377 - val_loss: 0.5049 - val_acc: 0.7290\n",
      "Epoch 51/100\n",
      "4425/4425 [==============================] - 121s 27ms/step - loss: 0.5005 - acc: 0.7449 - val_loss: 0.5075 - val_acc: 0.7293\n",
      "Epoch 52/100\n",
      "4425/4425 [==============================] - 121s 27ms/step - loss: 0.4984 - acc: 0.7351 - val_loss: 0.5014 - val_acc: 0.7260\n",
      "Epoch 53/100\n",
      "4425/4425 [==============================] - 122s 28ms/step - loss: 0.4970 - acc: 0.7391 - val_loss: 0.5022 - val_acc: 0.7272\n",
      "Epoch 54/100\n",
      "4425/4425 [==============================] - 122s 28ms/step - loss: 0.4920 - acc: 0.7412 - val_loss: 0.5014 - val_acc: 0.7362\n",
      "Epoch 55/100\n",
      "4425/4425 [==============================] - 122s 28ms/step - loss: 0.4887 - acc: 0.7490 - val_loss: 0.5447 - val_acc: 0.7176\n",
      "Epoch 56/100\n",
      "4425/4425 [==============================] - 121s 27ms/step - loss: 0.4820 - acc: 0.7513 - val_loss: 0.5110 - val_acc: 0.7260\n",
      "Epoch 57/100\n",
      "4425/4425 [==============================] - 119s 27ms/step - loss: 0.4808 - acc: 0.7537 - val_loss: 0.4972 - val_acc: 0.7317\n",
      "Epoch 58/100\n",
      "4425/4425 [==============================] - 119s 27ms/step - loss: 0.4775 - acc: 0.7565 - val_loss: 0.4942 - val_acc: 0.7329\n",
      "Epoch 59/100\n",
      "4425/4425 [==============================] - 120s 27ms/step - loss: 0.4672 - acc: 0.7645 - val_loss: 0.5073 - val_acc: 0.7299\n",
      "Epoch 60/100\n",
      "4425/4425 [==============================] - 120s 27ms/step - loss: 0.4646 - acc: 0.7678 - val_loss: 0.5041 - val_acc: 0.7311\n",
      "Epoch 61/100\n",
      "4425/4425 [==============================] - 121s 27ms/step - loss: 0.4563 - acc: 0.7773 - val_loss: 0.5075 - val_acc: 0.7254\n",
      "Epoch 62/100\n",
      "4425/4425 [==============================] - 121s 27ms/step - loss: 0.4592 - acc: 0.7705 - val_loss: 0.5020 - val_acc: 0.7368\n",
      "Epoch 63/100\n",
      "4425/4425 [==============================] - 121s 27ms/step - loss: 0.4551 - acc: 0.7737 - val_loss: 0.5091 - val_acc: 0.7293\n",
      "Epoch 64/100\n",
      "4425/4425 [==============================] - 120s 27ms/step - loss: 0.4475 - acc: 0.7792 - val_loss: 0.5010 - val_acc: 0.7248\n",
      "Epoch 65/100\n",
      "4425/4425 [==============================] - 121s 27ms/step - loss: 0.4448 - acc: 0.7847 - val_loss: 0.5019 - val_acc: 0.7344\n",
      "Epoch 66/100\n",
      "4425/4425 [==============================] - 120s 27ms/step - loss: 0.4369 - acc: 0.7849 - val_loss: 0.4989 - val_acc: 0.7290\n",
      "Epoch 67/100\n",
      "4425/4425 [==============================] - 121s 27ms/step - loss: 0.4328 - acc: 0.7919 - val_loss: 0.5019 - val_acc: 0.7281\n",
      "Epoch 68/100\n",
      "4425/4425 [==============================] - 119s 27ms/step - loss: 0.4394 - acc: 0.7881 - val_loss: 0.5187 - val_acc: 0.7236\n",
      "Epoch 69/100\n",
      "4425/4425 [==============================] - 120s 27ms/step - loss: 0.4260 - acc: 0.7943 - val_loss: 0.5218 - val_acc: 0.7302\n",
      "Epoch 70/100\n",
      "4425/4425 [==============================] - 120s 27ms/step - loss: 0.4237 - acc: 0.7956 - val_loss: 0.5124 - val_acc: 0.7350\n",
      "Epoch 71/100\n",
      "4425/4425 [==============================] - 120s 27ms/step - loss: 0.4167 - acc: 0.7961 - val_loss: 0.5189 - val_acc: 0.7272\n",
      "Epoch 72/100\n",
      "4425/4425 [==============================] - 120s 27ms/step - loss: 0.4146 - acc: 0.8028 - val_loss: 0.5209 - val_acc: 0.7290\n",
      "Epoch 73/100\n",
      "4425/4425 [==============================] - 121s 27ms/step - loss: 0.4009 - acc: 0.8149 - val_loss: 0.5329 - val_acc: 0.7203\n",
      "Epoch 74/100\n",
      "4425/4425 [==============================] - 121s 27ms/step - loss: 0.3942 - acc: 0.8179 - val_loss: 0.5294 - val_acc: 0.7317\n",
      "Epoch 75/100\n",
      "4425/4425 [==============================] - 122s 28ms/step - loss: 0.3944 - acc: 0.8164 - val_loss: 0.5272 - val_acc: 0.7248\n",
      "Epoch 76/100\n",
      "4425/4425 [==============================] - 120s 27ms/step - loss: 0.3773 - acc: 0.8218 - val_loss: 0.5241 - val_acc: 0.7260\n",
      "Epoch 77/100\n",
      "4425/4425 [==============================] - 121s 27ms/step - loss: 0.3794 - acc: 0.8257 - val_loss: 0.5382 - val_acc: 0.7221\n",
      "Epoch 78/100\n",
      "4425/4425 [==============================] - 124s 28ms/step - loss: 0.3806 - acc: 0.8252 - val_loss: 0.5586 - val_acc: 0.7275\n",
      "Epoch 79/100\n",
      "4425/4425 [==============================] - 122s 28ms/step - loss: 0.3694 - acc: 0.8295 - val_loss: 0.5403 - val_acc: 0.7221\n",
      "Epoch 80/100\n",
      "4425/4425 [==============================] - 122s 27ms/step - loss: 0.3609 - acc: 0.8362 - val_loss: 0.5580 - val_acc: 0.7203\n",
      "Epoch 81/100\n",
      "4425/4425 [==============================] - 121s 27ms/step - loss: 0.3512 - acc: 0.8423 - val_loss: 0.5656 - val_acc: 0.7224\n",
      "Epoch 82/100\n",
      "4425/4425 [==============================] - 120s 27ms/step - loss: 0.3461 - acc: 0.8398 - val_loss: 0.5587 - val_acc: 0.7284\n",
      "Epoch 83/100\n",
      "4425/4425 [==============================] - 120s 27ms/step - loss: 0.3424 - acc: 0.8444 - val_loss: 0.5858 - val_acc: 0.7281\n",
      "Epoch 84/100\n",
      "4425/4425 [==============================] - 120s 27ms/step - loss: 0.3389 - acc: 0.8487 - val_loss: 0.6025 - val_acc: 0.7209\n",
      "Epoch 85/100\n",
      "4425/4425 [==============================] - 119s 27ms/step - loss: 0.3180 - acc: 0.8613 - val_loss: 0.5998 - val_acc: 0.7233\n",
      "Epoch 86/100\n",
      "4425/4425 [==============================] - 120s 27ms/step - loss: 0.3162 - acc: 0.8629 - val_loss: 0.5803 - val_acc: 0.7188\n",
      "Epoch 87/100\n",
      "4425/4425 [==============================] - 119s 27ms/step - loss: 0.3094 - acc: 0.8645 - val_loss: 0.6022 - val_acc: 0.7269\n",
      "Epoch 88/100\n",
      "4425/4425 [==============================] - 119s 27ms/step - loss: 0.2965 - acc: 0.8762 - val_loss: 0.5984 - val_acc: 0.7124\n",
      "Epoch 89/100\n",
      "4425/4425 [==============================] - 120s 27ms/step - loss: 0.2983 - acc: 0.8725 - val_loss: 0.6610 - val_acc: 0.7281\n",
      "Epoch 90/100\n",
      "4425/4425 [==============================] - 120s 27ms/step - loss: 0.2984 - acc: 0.8702 - val_loss: 0.6435 - val_acc: 0.7239\n",
      "Epoch 91/100\n",
      "4425/4425 [==============================] - 120s 27ms/step - loss: 0.2814 - acc: 0.8820 - val_loss: 0.6495 - val_acc: 0.7230\n",
      "Epoch 92/100\n",
      "4425/4425 [==============================] - 119s 27ms/step - loss: 0.2687 - acc: 0.8817 - val_loss: 0.6279 - val_acc: 0.7100\n",
      "Epoch 93/100\n",
      "4425/4425 [==============================] - 121s 27ms/step - loss: 0.2665 - acc: 0.8882 - val_loss: 0.6502 - val_acc: 0.7191\n",
      "Epoch 94/100\n",
      "4425/4425 [==============================] - 122s 27ms/step - loss: 0.2753 - acc: 0.8849 - val_loss: 0.6509 - val_acc: 0.7142\n",
      "Epoch 95/100\n",
      "4425/4425 [==============================] - 121s 27ms/step - loss: 0.2585 - acc: 0.8911 - val_loss: 0.7010 - val_acc: 0.7148\n",
      "Epoch 96/100\n",
      "4425/4425 [==============================] - 121s 27ms/step - loss: 0.2433 - acc: 0.9015 - val_loss: 0.7023 - val_acc: 0.7046\n",
      "Epoch 97/100\n",
      "4425/4425 [==============================] - 120s 27ms/step - loss: 0.2391 - acc: 0.9031 - val_loss: 0.7060 - val_acc: 0.7019\n",
      "Epoch 98/100\n",
      "4425/4425 [==============================] - 119s 27ms/step - loss: 0.2336 - acc: 0.9036 - val_loss: 0.6956 - val_acc: 0.7079\n",
      "Epoch 99/100\n",
      "4425/4425 [==============================] - 121s 27ms/step - loss: 0.2304 - acc: 0.9063 - val_loss: 0.7267 - val_acc: 0.7188\n",
      "Epoch 100/100\n",
      "4425/4425 [==============================] - 122s 28ms/step - loss: 0.2146 - acc: 0.9118 - val_loss: 0.7484 - val_acc: 0.7167\n"
     ]
    }
   ],
   "source": [
    "CNN.compile(optimizer='adam', loss='binary_crossentropy', metrics=['acc'])\n",
    "history_c = CNN.fit(X_cnn, Y_sh, \n",
    "                    epochs=100,\n",
    "                    validation_split=0.2)"
   ]
  }
 ],
 "metadata": {
  "colab": {
   "collapsed_sections": [],
   "name": "IliaGelfat_FinalProject.ipynb",
   "provenance": [],
   "version": "0.3.2"
  },
  "kernelspec": {
   "display_name": "Python 3",
   "language": "python",
   "name": "python3"
  },
  "language_info": {
   "codemirror_mode": {
    "name": "ipython",
    "version": 3
   },
   "file_extension": ".py",
   "mimetype": "text/x-python",
   "name": "python",
   "nbconvert_exporter": "python",
   "pygments_lexer": "ipython3",
   "version": "3.7.1"
  }
 },
 "nbformat": 4,
 "nbformat_minor": 1
}
